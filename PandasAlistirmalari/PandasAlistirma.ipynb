{
 "cells": [
  {
   "cell_type": "markdown",
   "id": "81674830-9dee-4ff4-9f4d-ed3e6474a8c4",
   "metadata": {},
   "source": [
    "# Pandas Alıştırmaları "
   ]
  },
  {
   "cell_type": "code",
   "execution_count": 17,
   "id": "911a1037-a4a7-44e2-bdb8-479dc1649aac",
   "metadata": {},
   "outputs": [],
   "source": [
    "import seaborn as sns\n",
    "import pandas as pd\n",
    "df = sns.load_dataset(\"tips\")"
   ]
  },
  {
   "cell_type": "markdown",
   "id": "82b7a43b-b4ff-4013-94f8-00cb73a60da7",
   "metadata": {
    "tags": []
   },
   "source": [
    "### Bir DataFrame'in satır ve sütun sayısını nasıl bulabilirsiniz ?"
   ]
  },
  {
   "cell_type": "code",
   "execution_count": 3,
   "id": "00afc032-086a-4f02-b236-ebf0c4f61433",
   "metadata": {},
   "outputs": [
    {
     "data": {
      "text/plain": [
       "(244, 7)"
      ]
     },
     "execution_count": 3,
     "metadata": {},
     "output_type": "execute_result"
    }
   ],
   "source": [
    "df.shape"
   ]
  },
  {
   "cell_type": "markdown",
   "id": "68e25cf9-c5a0-42b1-83fc-c8a786bbad68",
   "metadata": {},
   "source": [
    "### Bir DataFrame'deki belirli bir sütunu nasıl seçersiniz ?"
   ]
  },
  {
   "cell_type": "code",
   "execution_count": 4,
   "id": "b99165b3-69ff-4592-8735-75b5774b5e74",
   "metadata": {},
   "outputs": [
    {
     "data": {
      "text/plain": [
       "0      1.01\n",
       "1      1.66\n",
       "2      3.50\n",
       "3      3.31\n",
       "4      3.61\n",
       "       ... \n",
       "239    5.92\n",
       "240    2.00\n",
       "241    2.00\n",
       "242    1.75\n",
       "243    3.00\n",
       "Name: tip, Length: 244, dtype: float64"
      ]
     },
     "execution_count": 4,
     "metadata": {},
     "output_type": "execute_result"
    }
   ],
   "source": [
    "df[\"tip\"]"
   ]
  },
  {
   "cell_type": "markdown",
   "id": "80a39256-eaa8-4a1d-89fd-6f6dba8b2f7a",
   "metadata": {},
   "source": [
    "### Bir DataFrame'deki belirli bir satırı nasıl seçersiniz ? (15.satir)"
   ]
  },
  {
   "cell_type": "code",
   "execution_count": 9,
   "id": "5353f4f7-8ac3-4a59-8794-bdd851c36654",
   "metadata": {},
   "outputs": [
    {
     "data": {
      "text/plain": [
       "total_bill     21.58\n",
       "tip             3.92\n",
       "sex             Male\n",
       "smoker            No\n",
       "day              Sun\n",
       "time          Dinner\n",
       "size               2\n",
       "Name: 15, dtype: object"
      ]
     },
     "execution_count": 9,
     "metadata": {},
     "output_type": "execute_result"
    }
   ],
   "source": [
    "df.iloc[15]"
   ]
  },
  {
   "cell_type": "markdown",
   "id": "afe102f3-d06c-496e-805c-0aa5f7e4ff0b",
   "metadata": {
    "tags": []
   },
   "source": [
    "### Bir DataFrame'deki belirli bir satırın belirli bir sütunundaki değeri nasıl seçersiniz ? (72.satir, columns=day)"
   ]
  },
  {
   "cell_type": "code",
   "execution_count": 11,
   "id": "2a6bea3c-2b12-4174-973a-d456a58b173b",
   "metadata": {},
   "outputs": [
    {
     "data": {
      "text/plain": [
       "'Sat'"
      ]
     },
     "execution_count": 11,
     "metadata": {},
     "output_type": "execute_result"
    }
   ],
   "source": [
    "df[\"day\"].iloc[72]"
   ]
  },
  {
   "cell_type": "code",
   "execution_count": 12,
   "id": "88549ead-ce9d-4f09-b31b-2282692179b7",
   "metadata": {},
   "outputs": [
    {
     "data": {
      "text/plain": [
       "'Sat'"
      ]
     },
     "execution_count": 12,
     "metadata": {},
     "output_type": "execute_result"
    }
   ],
   "source": [
    "df.iloc[72][\"day\"]"
   ]
  },
  {
   "cell_type": "markdown",
   "id": "eccf3cea-f04c-478e-844a-8b228c0161f8",
   "metadata": {},
   "source": [
    "### Bir DataFrame'deki tüm sütunların adlarını nasıl alırsınız ?"
   ]
  },
  {
   "cell_type": "code",
   "execution_count": 13,
   "id": "d10d9de4-2783-4de7-9f9d-c43b88b66e4d",
   "metadata": {},
   "outputs": [
    {
     "data": {
      "text/plain": [
       "Index(['total_bill', 'tip', 'sex', 'smoker', 'day', 'time', 'size'], dtype='object')"
      ]
     },
     "execution_count": 13,
     "metadata": {},
     "output_type": "execute_result"
    }
   ],
   "source": [
    "df.columns"
   ]
  },
  {
   "cell_type": "markdown",
   "id": "c21f5ba0-707a-4c16-a934-e01f42540545",
   "metadata": {},
   "source": [
    "### Bir DataFrame'deki tüm sütunların veri tiplerini nasıl alırsınız ?"
   ]
  },
  {
   "cell_type": "code",
   "execution_count": 14,
   "id": "797834c7-f2c7-4b78-9a24-f0e80da988b9",
   "metadata": {},
   "outputs": [
    {
     "data": {
      "text/plain": [
       "total_bill     float64\n",
       "tip            float64\n",
       "sex           category\n",
       "smoker        category\n",
       "day           category\n",
       "time          category\n",
       "size             int64\n",
       "dtype: object"
      ]
     },
     "execution_count": 14,
     "metadata": {},
     "output_type": "execute_result"
    }
   ],
   "source": [
    "df.dtypes"
   ]
  },
  {
   "cell_type": "markdown",
   "id": "ae4d8df2-caac-41ca-b0e8-fe77e652b6c6",
   "metadata": {},
   "source": [
    "### Bir DataFrame'deki tüm satırların bir sütunundaki tekil değerleri nasıl alırsınız ?"
   ]
  },
  {
   "cell_type": "code",
   "execution_count": 54,
   "id": "6a09cedf-5f42-45b9-920b-a56419df48ad",
   "metadata": {},
   "outputs": [
    {
     "data": {
      "text/plain": [
       "array([2, 3, 4, 1, 6, 5], dtype=int64)"
      ]
     },
     "execution_count": 54,
     "metadata": {},
     "output_type": "execute_result"
    }
   ],
   "source": [
    "df[\"size\"].unique()"
   ]
  },
  {
   "cell_type": "markdown",
   "id": "109bb7bc-7b2a-4ada-8e19-1f8b5de31d4c",
   "metadata": {},
   "source": [
    "### Bir DataFrame'deki belirli bir sütundaki tüm değerlerin ortalamasını nasıl hesaplayabilirsiniz ?"
   ]
  },
  {
   "cell_type": "code",
   "execution_count": 31,
   "id": "7e57e76d-547f-4216-af44-ceb5a3c0591f",
   "metadata": {},
   "outputs": [
    {
     "data": {
      "text/plain": [
       "2.9982786885245902"
      ]
     },
     "execution_count": 31,
     "metadata": {},
     "output_type": "execute_result"
    }
   ],
   "source": [
    "df[\"tip\"].mean()"
   ]
  },
  {
   "cell_type": "markdown",
   "id": "8b3053cb-b57d-4e22-9a22-13f0c1686281",
   "metadata": {},
   "source": [
    "### Bir DataFrame'deki belirli bir sütundaki tüm değerlerin standart sapmasını nasıl hesaplayabilirsiniz ?"
   ]
  },
  {
   "cell_type": "code",
   "execution_count": 34,
   "id": "8d1cf660-7e14-462d-ab8d-aae3c79a0fb1",
   "metadata": {},
   "outputs": [
    {
     "data": {
      "text/plain": [
       "8.902411954856856"
      ]
     },
     "execution_count": 34,
     "metadata": {},
     "output_type": "execute_result"
    }
   ],
   "source": [
    "df[\"total_bill\"].std()"
   ]
  },
  {
   "cell_type": "markdown",
   "id": "0f8fa825-e82e-4297-976e-0a27d61f6e41",
   "metadata": {},
   "source": [
    "### Bir DataFrame'deki belirli bir sütunun en büyük değerini nasıl bulabilirsiniz ? (total_tip icin yapiniz)"
   ]
  },
  {
   "cell_type": "code",
   "execution_count": 35,
   "id": "e4b26911-624e-4655-ba0c-e1970331e6f3",
   "metadata": {},
   "outputs": [
    {
     "data": {
      "text/plain": [
       "50.81"
      ]
     },
     "execution_count": 35,
     "metadata": {},
     "output_type": "execute_result"
    }
   ],
   "source": [
    "df[\"total_bill\"].max()"
   ]
  },
  {
   "cell_type": "markdown",
   "id": "b7a9940b-acf1-48b3-ae21-fc58809f90cb",
   "metadata": {},
   "source": [
    "### Bir DataFrame'deki belirli bir sütunun en küçük değerini nasıl bulabilirsiniz ? (tip sutunu icin yapiniz)"
   ]
  },
  {
   "cell_type": "code",
   "execution_count": 36,
   "id": "1c469c67-c5ae-48c6-a9de-1b4f86772fcc",
   "metadata": {},
   "outputs": [
    {
     "data": {
      "text/plain": [
       "1.0"
      ]
     },
     "execution_count": 36,
     "metadata": {},
     "output_type": "execute_result"
    }
   ],
   "source": [
    "df[\"tip\"].min()"
   ]
  },
  {
   "cell_type": "markdown",
   "id": "31e6a040-0b90-4d66-8533-a53a880b3da1",
   "metadata": {},
   "source": [
    "### Bir DataFrame'deki belirli bir sütundaki değerlerin sayısını nasıl hesaplayabilirsiniz ?"
   ]
  },
  {
   "cell_type": "code",
   "execution_count": 51,
   "id": "c78a3544-2c2c-4ba4-9002-3f9fdde1b7e6",
   "metadata": {},
   "outputs": [
    {
     "data": {
      "text/plain": [
       "244"
      ]
     },
     "execution_count": 51,
     "metadata": {},
     "output_type": "execute_result"
    }
   ],
   "source": [
    "df[\"day\"].count()"
   ]
  },
  {
   "cell_type": "markdown",
   "id": "2bf1865c-d620-4d21-8568-bf66a83e6872",
   "metadata": {},
   "source": [
    "### Bir DataFrame'deki belirli bir sütunun medyanını nasıl hesaplayabilirsiniz ?"
   ]
  },
  {
   "cell_type": "code",
   "execution_count": 41,
   "id": "26afd55e-1982-4115-8180-acc86edd32f8",
   "metadata": {},
   "outputs": [
    {
     "data": {
      "text/plain": [
       "17.795"
      ]
     },
     "execution_count": 41,
     "metadata": {},
     "output_type": "execute_result"
    }
   ],
   "source": [
    "df[\"total_bill\"].median()"
   ]
  },
  {
   "cell_type": "markdown",
   "id": "1973a219-322a-4532-8b9f-80bf92eefd97",
   "metadata": {},
   "source": [
    "### Bir DataFrame'deki belirli bir sütundaki en sık tekrar eden değeri nasıl bulabilirsiniz ?"
   ]
  },
  {
   "cell_type": "code",
   "execution_count": 44,
   "id": "3d153e9c-dfd8-48b4-8086-7cba15a8c644",
   "metadata": {},
   "outputs": [
    {
     "data": {
      "text/plain": [
       "0    Male\n",
       "Name: sex, dtype: category\n",
       "Categories (2, object): ['Male', 'Female']"
      ]
     },
     "execution_count": 44,
     "metadata": {},
     "output_type": "execute_result"
    }
   ],
   "source": [
    "df[\"sex\"].mode()"
   ]
  },
  {
   "cell_type": "markdown",
   "id": "0dc39839-8de6-4ad7-a54c-7bd94e578c2b",
   "metadata": {},
   "source": [
    "### Bir DataFrame'deki belirli bir sütunu küçükten büyüğe nasıl sıralayabilirsiniz ?"
   ]
  },
  {
   "cell_type": "code",
   "execution_count": 46,
   "id": "fb10ee7f-fb42-4c3d-a3be-fa5e0e0a7a7d",
   "metadata": {},
   "outputs": [
    {
     "data": {
      "text/plain": [
       "67      3.07\n",
       "92      5.75\n",
       "111     7.25\n",
       "172     7.25\n",
       "149     7.51\n",
       "       ...  \n",
       "182    45.35\n",
       "156    48.17\n",
       "59     48.27\n",
       "212    48.33\n",
       "170    50.81\n",
       "Name: total_bill, Length: 244, dtype: float64"
      ]
     },
     "execution_count": 46,
     "metadata": {},
     "output_type": "execute_result"
    }
   ],
   "source": [
    "df[\"total_bill\"].sort_values()"
   ]
  },
  {
   "cell_type": "markdown",
   "id": "58c42647-567d-458d-abad-6c073ae3f97f",
   "metadata": {},
   "source": [
    "### Bir DataFrame'deki belirli bir sütunu büyükten küçüğe nasıl sıralayabilirsiniz ?"
   ]
  },
  {
   "cell_type": "code",
   "execution_count": 47,
   "id": "c072eabb-961a-4089-a045-230fb33b40c1",
   "metadata": {},
   "outputs": [
    {
     "data": {
      "text/plain": [
       "170    50.81\n",
       "212    48.33\n",
       "59     48.27\n",
       "156    48.17\n",
       "182    45.35\n",
       "       ...  \n",
       "149     7.51\n",
       "111     7.25\n",
       "172     7.25\n",
       "92      5.75\n",
       "67      3.07\n",
       "Name: total_bill, Length: 244, dtype: float64"
      ]
     },
     "execution_count": 47,
     "metadata": {},
     "output_type": "execute_result"
    }
   ],
   "source": [
    "df[\"total_bill\"].sort_values(ascending = False)"
   ]
  },
  {
   "cell_type": "markdown",
   "id": "b87bdd2c-fa9b-47d6-829e-274c074d9c65",
   "metadata": {},
   "source": [
    "### Bir DataFrame'deki belirli bir sütunda belirli bir koşulu sağlayan değerleri nasıl seçebilirsiniz ? (tip>2 icin sorgulayin)"
   ]
  },
  {
   "cell_type": "code",
   "execution_count": 48,
   "id": "cd03ef6f-b2f0-4214-973f-81d712f91a5f",
   "metadata": {},
   "outputs": [
    {
     "data": {
      "text/html": [
       "<div>\n",
       "<style scoped>\n",
       "    .dataframe tbody tr th:only-of-type {\n",
       "        vertical-align: middle;\n",
       "    }\n",
       "\n",
       "    .dataframe tbody tr th {\n",
       "        vertical-align: top;\n",
       "    }\n",
       "\n",
       "    .dataframe thead th {\n",
       "        text-align: right;\n",
       "    }\n",
       "</style>\n",
       "<table border=\"1\" class=\"dataframe\">\n",
       "  <thead>\n",
       "    <tr style=\"text-align: right;\">\n",
       "      <th></th>\n",
       "      <th>total_bill</th>\n",
       "      <th>tip</th>\n",
       "      <th>sex</th>\n",
       "      <th>smoker</th>\n",
       "      <th>day</th>\n",
       "      <th>time</th>\n",
       "      <th>size</th>\n",
       "    </tr>\n",
       "  </thead>\n",
       "  <tbody>\n",
       "    <tr>\n",
       "      <th>2</th>\n",
       "      <td>21.01</td>\n",
       "      <td>3.50</td>\n",
       "      <td>Male</td>\n",
       "      <td>No</td>\n",
       "      <td>Sun</td>\n",
       "      <td>Dinner</td>\n",
       "      <td>3</td>\n",
       "    </tr>\n",
       "    <tr>\n",
       "      <th>3</th>\n",
       "      <td>23.68</td>\n",
       "      <td>3.31</td>\n",
       "      <td>Male</td>\n",
       "      <td>No</td>\n",
       "      <td>Sun</td>\n",
       "      <td>Dinner</td>\n",
       "      <td>2</td>\n",
       "    </tr>\n",
       "    <tr>\n",
       "      <th>4</th>\n",
       "      <td>24.59</td>\n",
       "      <td>3.61</td>\n",
       "      <td>Female</td>\n",
       "      <td>No</td>\n",
       "      <td>Sun</td>\n",
       "      <td>Dinner</td>\n",
       "      <td>4</td>\n",
       "    </tr>\n",
       "    <tr>\n",
       "      <th>5</th>\n",
       "      <td>25.29</td>\n",
       "      <td>4.71</td>\n",
       "      <td>Male</td>\n",
       "      <td>No</td>\n",
       "      <td>Sun</td>\n",
       "      <td>Dinner</td>\n",
       "      <td>4</td>\n",
       "    </tr>\n",
       "    <tr>\n",
       "      <th>7</th>\n",
       "      <td>26.88</td>\n",
       "      <td>3.12</td>\n",
       "      <td>Male</td>\n",
       "      <td>No</td>\n",
       "      <td>Sun</td>\n",
       "      <td>Dinner</td>\n",
       "      <td>4</td>\n",
       "    </tr>\n",
       "    <tr>\n",
       "      <th>...</th>\n",
       "      <td>...</td>\n",
       "      <td>...</td>\n",
       "      <td>...</td>\n",
       "      <td>...</td>\n",
       "      <td>...</td>\n",
       "      <td>...</td>\n",
       "      <td>...</td>\n",
       "    </tr>\n",
       "    <tr>\n",
       "      <th>232</th>\n",
       "      <td>11.61</td>\n",
       "      <td>3.39</td>\n",
       "      <td>Male</td>\n",
       "      <td>No</td>\n",
       "      <td>Sat</td>\n",
       "      <td>Dinner</td>\n",
       "      <td>2</td>\n",
       "    </tr>\n",
       "    <tr>\n",
       "      <th>234</th>\n",
       "      <td>15.53</td>\n",
       "      <td>3.00</td>\n",
       "      <td>Male</td>\n",
       "      <td>Yes</td>\n",
       "      <td>Sat</td>\n",
       "      <td>Dinner</td>\n",
       "      <td>2</td>\n",
       "    </tr>\n",
       "    <tr>\n",
       "      <th>238</th>\n",
       "      <td>35.83</td>\n",
       "      <td>4.67</td>\n",
       "      <td>Female</td>\n",
       "      <td>No</td>\n",
       "      <td>Sat</td>\n",
       "      <td>Dinner</td>\n",
       "      <td>3</td>\n",
       "    </tr>\n",
       "    <tr>\n",
       "      <th>239</th>\n",
       "      <td>29.03</td>\n",
       "      <td>5.92</td>\n",
       "      <td>Male</td>\n",
       "      <td>No</td>\n",
       "      <td>Sat</td>\n",
       "      <td>Dinner</td>\n",
       "      <td>3</td>\n",
       "    </tr>\n",
       "    <tr>\n",
       "      <th>243</th>\n",
       "      <td>18.78</td>\n",
       "      <td>3.00</td>\n",
       "      <td>Female</td>\n",
       "      <td>No</td>\n",
       "      <td>Thur</td>\n",
       "      <td>Dinner</td>\n",
       "      <td>2</td>\n",
       "    </tr>\n",
       "  </tbody>\n",
       "</table>\n",
       "<p>166 rows × 7 columns</p>\n",
       "</div>"
      ],
      "text/plain": [
       "     total_bill   tip     sex smoker   day    time  size\n",
       "2         21.01  3.50    Male     No   Sun  Dinner     3\n",
       "3         23.68  3.31    Male     No   Sun  Dinner     2\n",
       "4         24.59  3.61  Female     No   Sun  Dinner     4\n",
       "5         25.29  4.71    Male     No   Sun  Dinner     4\n",
       "7         26.88  3.12    Male     No   Sun  Dinner     4\n",
       "..          ...   ...     ...    ...   ...     ...   ...\n",
       "232       11.61  3.39    Male     No   Sat  Dinner     2\n",
       "234       15.53  3.00    Male    Yes   Sat  Dinner     2\n",
       "238       35.83  4.67  Female     No   Sat  Dinner     3\n",
       "239       29.03  5.92    Male     No   Sat  Dinner     3\n",
       "243       18.78  3.00  Female     No  Thur  Dinner     2\n",
       "\n",
       "[166 rows x 7 columns]"
      ]
     },
     "execution_count": 48,
     "metadata": {},
     "output_type": "execute_result"
    }
   ],
   "source": [
    "df[df[\"tip\"] > 2]"
   ]
  },
  {
   "cell_type": "code",
   "execution_count": 49,
   "id": "551791e4-b600-40c3-a97e-61098273be59",
   "metadata": {},
   "outputs": [
    {
     "data": {
      "text/plain": [
       "2      3.50\n",
       "3      3.31\n",
       "4      3.61\n",
       "5      4.71\n",
       "7      3.12\n",
       "       ... \n",
       "232    3.39\n",
       "234    3.00\n",
       "238    4.67\n",
       "239    5.92\n",
       "243    3.00\n",
       "Name: tip, Length: 166, dtype: float64"
      ]
     },
     "execution_count": 49,
     "metadata": {},
     "output_type": "execute_result"
    }
   ],
   "source": [
    "df[df[\"tip\"] > 2][\"tip\"]"
   ]
  },
  {
   "cell_type": "code",
   "execution_count": null,
   "id": "071b3776-5811-4cbb-acc2-1043081c0aff",
   "metadata": {},
   "outputs": [],
   "source": []
  }
 ],
 "metadata": {
  "kernelspec": {
   "display_name": "Python 3 (ipykernel)",
   "language": "python",
   "name": "python3"
  },
  "language_info": {
   "codemirror_mode": {
    "name": "ipython",
    "version": 3
   },
   "file_extension": ".py",
   "mimetype": "text/x-python",
   "name": "python",
   "nbconvert_exporter": "python",
   "pygments_lexer": "ipython3",
   "version": "3.9.13"
  }
 },
 "nbformat": 4,
 "nbformat_minor": 5
}
